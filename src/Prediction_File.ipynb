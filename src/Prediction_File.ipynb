{
 "cells": [
  {
   "cell_type": "markdown",
   "metadata": {},
   "source": [
    "### Prediction File"
   ]
  },
  {
   "cell_type": "markdown",
   "metadata": {},
   "source": [
    "#### Importing Libraries "
   ]
  },
  {
   "cell_type": "code",
   "execution_count": 40,
   "metadata": {},
   "outputs": [],
   "source": [
    "import cv2 as cv\n",
    "import numpy as np\n",
    "import os\n",
    "from sklearn.svm import LinearSVC\n",
    "from sklearn.externals import joblib\n",
    "from scipy.cluster.vq import *\n",
    "from imutils import paths\n",
    "%matplotlib inline"
   ]
  },
  {
   "cell_type": "markdown",
   "metadata": {},
   "source": [
    "#### Load Classifier For Prediction"
   ]
  },
  {
   "cell_type": "code",
   "execution_count": 41,
   "metadata": {},
   "outputs": [
    {
     "name": "stdout",
     "output_type": "stream",
     "text": [
      "Data loaded! (Fruit_CLassifier.pkl)\n"
     ]
    }
   ],
   "source": [
    "DATA_FILENAME = \"Fruit_CLassifier.pkl\"\n",
    "clf, classes_names, stdSlr, k, voc, idf = joblib.load(DATA_FILENAME)\n",
    "print(\"Data loaded! (\"+DATA_FILENAME+\")\")"
   ]
  },
  {
   "cell_type": "markdown",
   "metadata": {},
   "source": [
    "#### Read Test Data"
   ]
  },
  {
   "cell_type": "code",
   "execution_count": 42,
   "metadata": {},
   "outputs": [],
   "source": [
    "test_path = '..\\data\\Test_data'\n",
    "image_paths = []\n",
    "testing_categories = os.listdir(test_path)\n",
    "for test_category in testing_categories:\n",
    "    dir = os.path.join(test_path, test_category)\n",
    "    class_path = list(paths.list_images(dir))\n",
    "    image_paths+=class_path"
   ]
  },
  {
   "cell_type": "markdown",
   "metadata": {},
   "source": [
    "#### Calculate KeyPoint and Descriptor of Testing Data"
   ]
  },
  {
   "cell_type": "code",
   "execution_count": 43,
   "metadata": {},
   "outputs": [],
   "source": [
    "sift = cv.xfeatures2d.SIFT_create()\n",
    "des_list = []\n",
    "for image_path in image_paths:\n",
    "    im = cv.imread(image_path)\n",
    "    if im.all == None:\n",
    "        print(\"No such file {}\\nCheck if the file exists\".format(image_path))\n",
    "    kpts, des = sift.detectAndCompute(im, None)\n",
    "    des_list.append((image_path, kpts, des))"
   ]
  },
  {
   "cell_type": "markdown",
   "metadata": {},
   "source": [
    "#### Stack All Desciptors/Keypoints Vertically in Numpy Array"
   ]
  },
  {
   "cell_type": "code",
   "execution_count": 44,
   "metadata": {},
   "outputs": [],
   "source": [
    "descriptors = des_list[0][2]\n",
    "for image_path, keypoint, descriptor in des_list[0:]:\n",
    "    descriptors = np.vstack((descriptors, descriptor))"
   ]
  },
  {
   "cell_type": "markdown",
   "metadata": {},
   "source": [
    "#### Calculate Histogram for Test Images Data"
   ]
  },
  {
   "cell_type": "code",
   "execution_count": 45,
   "metadata": {},
   "outputs": [],
   "source": [
    "test_features = np.zeros((len(image_paths), k), \"float32\")\n",
    "for i in range(len(image_paths)):\n",
    "    words, distance = vq(des_list[i][2],voc)\n",
    "    for w in words:\n",
    "        test_features[i][w] += 1\n",
    "nbr_occurences = np.sum(test_features > 0, axis = 0)\n",
    "idf = np.array(np.log((1.0*len(image_paths)+1) / (1.0*nbr_occurences + 1)), 'float32')"
   ]
  },
  {
   "cell_type": "markdown",
   "metadata": {},
   "source": [
    "#### Normalization of Features "
   ]
  },
  {
   "cell_type": "code",
   "execution_count": 46,
   "metadata": {},
   "outputs": [],
   "source": [
    "test_features = test_features * idf\n",
    "test_features = stdSlr.transform(test_features)"
   ]
  },
  {
   "cell_type": "markdown",
   "metadata": {},
   "source": [
    "#### Let's Start Prediction "
   ]
  },
  {
   "cell_type": "code",
   "execution_count": 47,
   "metadata": {},
   "outputs": [
    {
     "name": "stdout",
     "output_type": "stream",
     "text": [
      "['Apple', 'Apple', 'Mango', 'Mango']\n"
     ]
    }
   ],
   "source": [
    "predictions =  [classes_names[i] for i in clf.predict(test_features)]\n",
    "print(predictions)"
   ]
  },
  {
   "cell_type": "markdown",
   "metadata": {},
   "source": [
    "#### Main Prediction Cell It May take some time depend on Processing Power"
   ]
  },
  {
   "cell_type": "markdown",
   "metadata": {},
   "source": [
    "After Running Below cell image screen open you need to enter s from your keyboard to store predicted image and move to next image"
   ]
  },
  {
   "cell_type": "code",
   "execution_count": 48,
   "metadata": {},
   "outputs": [],
   "source": [
    "saved_imgs_counter = 0\n",
    "for image_path, prediction in zip(image_paths, predictions):\n",
    "    image = cv.imread(image_path)\n",
    "    cv.namedWindow(\"Image\", cv.WINDOW_NORMAL)\n",
    "    pt = (0, 3 * image.shape[0] // 4)\n",
    "    cv.putText(image, prediction, pt ,cv.FONT_ITALIC, 1, [0, 0, 255], 2)\n",
    "    cv.imshow(\"Image\", image)\n",
    "    k = cv.waitKey(0)\n",
    "    if(k == 27):\n",
    "        cv.destroyAllWindows()\n",
    "    elif(k == ord('s')):\n",
    "        cv.imwrite(\"./Predicted_images/predict_\"+str(saved_imgs_counter)+\".jpg\", image)\n",
    "        saved_imgs_counter = saved_imgs_counter + 1\n",
    "        cv.destroyAllWindows()"
   ]
  },
  {
   "cell_type": "markdown",
   "metadata": {},
   "source": [
    "#### Save All output in Montage Form"
   ]
  },
  {
   "cell_type": "markdown",
   "metadata": {},
   "source": [
    "After Running Below cell image screen open you need to enter s from your keyboard to store predicted image"
   ]
  },
  {
   "cell_type": "code",
   "execution_count": 49,
   "metadata": {},
   "outputs": [],
   "source": [
    "from imutils import build_montages\n",
    "import random\n",
    "imagePaths = [i for i in paths.list_images('./output/')]\n",
    "random.shuffle(imagePaths)\n",
    "images = []\n",
    "for imagePath in imagePaths:\n",
    "    image = cv.imread(imagePath)\n",
    "    images.append(image)\n",
    "montages = build_montages(images, (256, 256), (3, 3))\n",
    "for montage in montages:\n",
    "    cv.imshow(\"Montage\", montage)\n",
    "    k = cv.waitKey(0)\n",
    "    if(k == 27):\n",
    "        cv.destroyAllWindows()\n",
    "    elif(k == ord('s')):\n",
    "        cv.imwrite(\"./Predicted_images/predict_\"+str(saved_imgs_counter)+\".jpg\", image)\n",
    "        saved_imgs_counter = saved_imgs_counter + 1\n",
    "        cv.destroyAllWindows()"
   ]
  }
 ],
 "metadata": {
  "kernelspec": {
   "display_name": "Python 3",
   "language": "python",
   "name": "python3"
  },
  "language_info": {
   "codemirror_mode": {
    "name": "ipython",
    "version": 3
   },
   "file_extension": ".py",
   "mimetype": "text/x-python",
   "name": "python",
   "nbconvert_exporter": "python",
   "pygments_lexer": "ipython3",
   "version": "3.7.4"
  }
 },
 "nbformat": 4,
 "nbformat_minor": 2
}
